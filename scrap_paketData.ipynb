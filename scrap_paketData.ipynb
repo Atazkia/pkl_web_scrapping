{
 "cells": [
  {
   "cell_type": "code",
   "execution_count": 1,
   "metadata": {},
   "outputs": [
    {
     "name": "stderr",
     "output_type": "stream",
     "text": [
      "C:\\Users\\TazkiaAp\\AppData\\Local\\Temp\\ipykernel_7640\\721042460.py:18: DeprecationWarning: The distutils package is deprecated and slated for removal in Python 3.12. Use setuptools or check PEP 632 for potential alternatives\n",
      "  from distutils.filelist import findall\n"
     ]
    }
   ],
   "source": [
    "from wsgiref.util import setup_testing_defaults\n",
    "import requests as req\n",
    "import csv\n",
    "from sqlalchemy import true\n",
    "from selenium.webdriver import Chrome\n",
    "from importlib.resources import contents\n",
    "from itertools import count\n",
    "from selenium import webdriver\n",
    "from selenium.webdriver.common.by import By\n",
    "from selenium.webdriver.support.ui import WebDriverWait\n",
    "from selenium.webdriver.support import expected_conditions as EC\n",
    "from selenium.webdriver.chrome.options import Options\n",
    "from webdriver_manager.chrome import ChromeDriverManager\n",
    "from bs4 import BeautifulSoup\n",
    "import pandas as pd\n",
    "from distutils.filelist import findall\n",
    "from selenium.webdriver.chrome.service import Service\n",
    "import numpy as np\n",
    "import nltk \n",
    "import string\n",
    "import re"
   ]
  },
  {
   "cell_type": "code",
   "execution_count": 2,
   "metadata": {},
   "outputs": [
    {
     "name": "stderr",
     "output_type": "stream",
     "text": [
      "[WDM] - Downloading: 100%|██████████| 6.29M/6.29M [00:10<00:00, 626kB/s] \n",
      "C:\\Users\\TazkiaAp\\AppData\\Local\\Temp\\ipykernel_7640\\2567649721.py:5: DeprecationWarning: use options instead of chrome_options\n",
      "  driver = webdriver.Chrome(service=Service(ChromeDriverManager().install()), chrome_options=options)\n"
     ]
    }
   ],
   "source": [
    "options = webdriver.ChromeOptions()\n",
    "options.add_argument('--ignore-certificate-errors')\n",
    "options.add_argument('--ignore-certificate-errors-spki-list')\n",
    "options.add_argument('--ignore-ssl-errors')\n",
    "driver = webdriver.Chrome(service=Service(ChromeDriverManager().install()), chrome_options=options)"
   ]
  },
  {
   "cell_type": "code",
   "execution_count": 3,
   "metadata": {},
   "outputs": [],
   "source": [
    "url = \"https://api.bukalapak.com/phone-credits/prepaid-products\"\n",
    "driver.get(url)"
   ]
  },
  {
   "cell_type": "code",
   "execution_count": 4,
   "metadata": {},
   "outputs": [
    {
     "name": "stdout",
     "output_type": "stream",
     "text": [
      "      No   Operator                                     Name  \\\n",
      "0      1         XL             Xtra Hotrod Special 2GB, 7hr   \n",
      "1      2         XL             Xtra Hotrod Special 3GB, 7hr   \n",
      "2      3       Axis                 BRONET Mini 1.5GB 7 hari   \n",
      "3      4  Telkomsel           Telkomsel Data Flash 1GB, 30Hr   \n",
      "4      5       Axis                   BRONET Mini 2GB 7 hari   \n",
      "..   ...        ...                                      ...   \n",
      "267  268    Indosat             Freedom Combo 60GB / 30 Hari   \n",
      "268  269         XL            Paket Internet XL HotRod 12GB   \n",
      "269  270  Telkomsel         PAKET INTERNET BULANAN OMG! 210K   \n",
      "270  271         XL            Paket Internet XL HotRod 16GB   \n",
      "271  272         XL  Paket Akrab 460GB + Bonus Pulsa 100.000   \n",
      "\n",
      "                                           Description  Normal Price   Price  \\\n",
      "0    Kuota Utama 500MB + Kuota Area hingga 3.5GB + ...         12000   11200   \n",
      "1    Kuota Utama 1GB + Kuota Area hingga 6GB + YouT...         15000   14000   \n",
      "2    Kuota Internet 1.5GB berlaku di semua Jaringan...         14850   13973   \n",
      "3                  Kuota utama 1GB, masa aktif 30 Hari         24280   23550   \n",
      "4    Kuota Internet 2GB berlaku di semua Jaringan 2...         18849   16357   \n",
      "..                                                 ...           ...     ...   \n",
      "267  • Kuota Utama 45GB+Kuota Malam 15GB. • Baru! K...        162600  162600   \n",
      "268   Kuota Utama 12GB (2G/3G/4G). Masa aktif 30 hari.        175895  175895   \n",
      "269                      KUOTA 43GB sd 83GB + 2GB OMG!        217025  217025   \n",
      "270   Kuota Utama 16GB (2G/3G/4G). Masa aktif 30 hari.        215000  215000   \n",
      "271  160GB Kuota Bersama + Bonus Kuota Pribadi hing...        515000  515000   \n",
      "\n",
      "     Discount  \n",
      "0         800  \n",
      "1        1000  \n",
      "2         877  \n",
      "3         730  \n",
      "4        2492  \n",
      "..        ...  \n",
      "267         0  \n",
      "268      4105  \n",
      "269         0  \n",
      "270      5000  \n",
      "271         0  \n",
      "\n",
      "[272 rows x 7 columns]\n"
     ]
    }
   ],
   "source": [
    "from ast import operator\n",
    "\n",
    "\n",
    "list_no,list_provider,list_name,list_deskripsi,list_normalPrice,list_price,list_discount=[],[],[],[],[],[],[]\n",
    "count = 0\n",
    "for page in range(1, 2):\n",
    "    parameter = {\n",
    "        \"method\": 'GET',\n",
    "        \"limit\":\"50\",\n",
    "        \"page\" : page,\n",
    "        'category': 'package',\n",
    "        \"access_token\": \"OmSpw1gldPUm3894vHhfP8evsCDB0Yz3nKOHDgFbQDn84w\"\n",
    "    }\n",
    "\n",
    "    resp = req.get(url, params=parameter).json()\n",
    "\n",
    "    products = resp['data']\n",
    "    for p in products:\n",
    "        provider = p['operator']['name']\n",
    "        name = p['name']\n",
    "        deskripsi = p['description']\n",
    "        normalPrice = p['partner_package']['package']['normal_price']\n",
    "        price = p['partner_package']['package']['price']\n",
    "        discount = p['partner_package']['package']['discount']\n",
    "\n",
    "       \n",
    "        count+=1\n",
    "        list_no.append(count)\n",
    "        list_provider.append(provider)\n",
    "        list_name.append(name)\n",
    "        list_deskripsi.append(deskripsi)\n",
    "        list_normalPrice.append(normalPrice)\n",
    "        list_price.append(price)\n",
    "        list_discount.append(discount)\n",
    "\n",
    "\n",
    "    df = pd.DataFrame({'No':list_no, 'Operator':list_provider, 'Name':list_name, 'Description':list_deskripsi,'Normal Price':list_normalPrice, 'Price':list_price, 'Discount':list_discount})   \n",
    "    writer = pd.ExcelWriter('paketdata_mentah.xlsx')\n",
    "    df.to_excel(writer,'Sheet1',index=False)\n",
    "    writer.save() #menyimpan hasil dari dataframe excel\n",
    "    print(df)"
   ]
  }
 ],
 "metadata": {
  "kernelspec": {
   "display_name": "Python 3.10.5 64-bit",
   "language": "python",
   "name": "python3"
  },
  "language_info": {
   "codemirror_mode": {
    "name": "ipython",
    "version": 3
   },
   "file_extension": ".py",
   "mimetype": "text/x-python",
   "name": "python",
   "nbconvert_exporter": "python",
   "pygments_lexer": "ipython3",
   "version": "3.10.5"
  },
  "orig_nbformat": 4,
  "vscode": {
   "interpreter": {
    "hash": "669c963f716816f712862458db214bd668ac5513282c487e115ff36c74830eb7"
   }
  }
 },
 "nbformat": 4,
 "nbformat_minor": 2
}
